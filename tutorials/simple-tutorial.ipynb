{
 "cells": [
  {
   "cell_type": "markdown",
   "id": "subsequent-wealth",
   "metadata": {},
   "source": [
    "# NWB Conversion Tools - Simple Tutorial"
   ]
  },
  {
   "cell_type": "code",
   "execution_count": 1,
   "id": "southern-singapore",
   "metadata": {},
   "outputs": [],
   "source": [
    "from pathlib import Path\n",
    "\n",
    "from pynwb import NWBHDF5IO\n",
    "from nwbwidgets import nwb2widget\n",
    "\n",
    "from nwb_conversion_tools import (\n",
    "    NWBConverter,\n",
    "    TutorialRecordingInterface,\n",
    "    TutorialSortingInterface\n",
    ")"
   ]
  },
  {
   "cell_type": "markdown",
   "id": "swedish-payment",
   "metadata": {},
   "source": [
    "## Define conversion class and its internal data interface classes (*i.e.*, the name of format)\n",
    "### For a full list of supported formats, [see this list](https://nwb-conversion-tools.readthedocs.io/en/conversion_guide/converting_data_to_nwb.html), or [make your own data interface](https://nwb-conversion-tools.readthedocs.io/en/conversion_guide/data_interface.html)"
   ]
  },
  {
   "cell_type": "code",
   "execution_count": 2,
   "id": "adjacent-density",
   "metadata": {},
   "outputs": [],
   "source": [
    "class TutorialNWBConverter(NWBConverter):\n",
    "    data_interface_classes = dict(\n",
    "        TutorialRecording=TutorialRecordingInterface, \n",
    "        TutorialSorting=TutorialSortingInterface\n",
    "    )"
   ]
  },
  {
   "cell_type": "markdown",
   "id": "single-stand",
   "metadata": {},
   "source": [
    "## Construct arguments for the converter class and run conversion"
   ]
  },
  {
   "cell_type": "code",
   "execution_count": 4,
   "id": "announced-table",
   "metadata": {},
   "outputs": [
    {
     "name": "stderr",
     "output_type": "stream",
     "text": [
      "d:\\github\\pynwb\\src\\pynwb\\file.py:762: UserWarning: Date is missing timezone information. Updating to local timezone.\n",
      "  warn(\"Date is missing timezone information. Updating to local timezone.\")\n",
      "d:\\github\\spikeextractor_forks\\catalystneuro\\spikeextractors\\spikeextractors\\extraction_tools.py:793: UserWarning: The recording extractor does not have unscaled traces. Returning scaled traces\n",
      "  warnings.warn(\"The recording extractor does not have unscaled traces. Returning scaled traces\")\n"
     ]
    },
    {
     "name": "stdout",
     "output_type": "stream",
     "text": [
      "NWB file saved at E:/NWBConversionToolsTutorial.nwb!\n"
     ]
    }
   ],
   "source": [
    "# Custom parameters for simulated toy data\n",
    "duration=10.  # Seconds\n",
    "num_channels=4\n",
    "sampling_frequency=30000.  # Hz\n",
    "\n",
    "stub_test = True  # Truncates data write for faster quality checking\n",
    "\n",
    "output_file = \"E:/NWBConversionToolsSimpleTutorial.nwb\"\n",
    "\n",
    "# Input arguments to each interface\n",
    "# For actual data formats, these arguments are typically file or folder paths to the data\n",
    "source_data = dict(\n",
    "    TutorialRecording=dict(\n",
    "        duration=duration,\n",
    "        num_channels=num_channels,\n",
    "        sampling_frequency=sampling_frequency\n",
    "    ),\n",
    "    TutorialSorting=dict(\n",
    "        duration=duration,\n",
    "        num_channels=num_channels,\n",
    "        sampling_frequency=sampling_frequency\n",
    "    )\n",
    ")\n",
    "\n",
    "# Initialize converter\n",
    "converter = TutorialNWBConverter(source_data=source_data)\n",
    "\n",
    "# Get metadata from source data\n",
    "# For actual data formats, this generally pulls informatin from the header files for each interface\n",
    "metadata = converter.get_metadata()\n",
    "\n",
    "# User-input metadata\n",
    "metadata[\"NWBFile\"][\"session_description\"] = \"NWB Conversion Tools tutorial.\"\n",
    "metadata[\"NWBFile\"][\"experimenter\"] = \"My name\"\n",
    "metadata[\"Subject\"] = dict(subject_id=\"Name of imaginary testing subject (required for DANDI upload)\")\n",
    "\n",
    "# Conversion options for each interface\n",
    "# For actual data formats, these can vary widely - read the docstring for the interface you want to use by entering\n",
    "#     import nwb_conversion_tools\n",
    "#     nwb_conversion_tools.NameOfDataInterface.run_conversion?\n",
    "conversion_options = dict(\n",
    "    TutorialRecording=dict(stub_test=stub_test),\n",
    "    TutorialSorting=dict()\n",
    ")\n",
    "\n",
    "# Run conversion\n",
    "converter.run_conversion(\n",
    "    metadata=metadata, \n",
    "    nwbfile_path=output_file, \n",
    "    save_to_file=True,  # If False, this instead returns the NWBFile object in memory\n",
    "    overwrite = True,  # If False, this appends an existing file\n",
    "    conversion_options=conversion_options\n",
    ")"
   ]
  },
  {
   "cell_type": "markdown",
   "id": "meaning-encoding",
   "metadata": {},
   "source": [
    "## View NWBFile with widgets"
   ]
  },
  {
   "cell_type": "code",
   "execution_count": 5,
   "id": "international-ghana",
   "metadata": {},
   "outputs": [
    {
     "data": {
      "application/vnd.jupyter.widget-view+json": {
       "model_id": "125464cef94f436a85680716143f1f54",
       "version_major": 2,
       "version_minor": 0
      },
      "text/plain": [
       "VBox(children=(HBox(children=(Label(value='session_description:', layout=Layout(max_height='40px', max_width='…"
      ]
     },
     "metadata": {},
     "output_type": "display_data"
    }
   ],
   "source": [
    "io = NWBHDF5IO(output_file, \"r\")\n",
    "nwbfile = io.read()\n",
    "nwb2widget(nwbfile)"
   ]
  },
  {
   "cell_type": "code",
   "execution_count": null,
   "id": "requested-virgin",
   "metadata": {},
   "outputs": [],
   "source": []
  }
 ],
 "metadata": {
  "kernelspec": {
   "display_name": "Python 3",
   "language": "python",
   "name": "python3"
  },
  "language_info": {
   "codemirror_mode": {
    "name": "ipython",
    "version": 3
   },
   "file_extension": ".py",
   "mimetype": "text/x-python",
   "name": "python",
   "nbconvert_exporter": "python",
   "pygments_lexer": "ipython3",
   "version": "3.9.1"
  }
 },
 "nbformat": 4,
 "nbformat_minor": 5
}
