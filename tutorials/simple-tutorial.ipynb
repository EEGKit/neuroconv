{
 "cells": [
  {
   "cell_type": "markdown",
   "id": "subsequent-wealth",
   "metadata": {},
   "source": [
    "# NWB Conversion Tools - Simple Tutorial"
   ]
  },
  {
   "cell_type": "code",
   "execution_count": 2,
   "id": "southern-singapore",
   "metadata": {},
   "outputs": [],
   "source": [
    "from pathlib import Path\n",
    "\n",
    "from pynwb import NWBHDF5IO\n",
    "from nwbwidgets import nwb2widget\n",
    "\n",
    "from nwb_conversion_tools import NWBConverter, RecordingTutorialInterface, SortingTutorialInterface"
   ]
  },
  {
   "cell_type": "markdown",
   "id": "swedish-payment",
   "metadata": {},
   "source": [
    "## Define conversion class and its internal data interfaces (*i.e.*, the name of format)\n",
    "### For a full list of supported formats, [see this list](https://nwb-conversion-tools.readthedocs.io/en/conversion_guide/converting_data_to_nwb.html), or [make your own data interface](https://nwb-conversion-tools.readthedocs.io/en/conversion_guide/data_interface.html)"
   ]
  },
  {
   "cell_type": "code",
   "execution_count": 4,
   "id": "adjacent-density",
   "metadata": {},
   "outputs": [],
   "source": [
    "class TutorialNWBConverter(NWBConverter):\n",
    "    data_interface_classes = dict(\n",
    "        RecordingTutorial=RecordingTutorialInterface,\n",
    "        SortingTutorial=SortingTutorialInterface\n",
    "    )"
   ]
  },
  {
   "cell_type": "markdown",
   "id": "single-stand",
   "metadata": {},
   "source": [
    "## Construct arguments for the converter class and run conversion"
   ]
  },
  {
   "cell_type": "code",
   "execution_count": 7,
   "id": "announced-table",
   "metadata": {},
   "outputs": [
    {
     "name": "stdout",
     "output_type": "stream",
     "text": [
      "Source data is valid!\n"
     ]
    },
    {
     "ename": "ValidationError",
     "evalue": "Additional properties are not allowed ('ElectricalSeries' was unexpected)\n\nFailed validating 'additionalProperties' in schema['properties']['Ecephys']:\n    {'additionalProperties': False,\n     'properties': {'Device': {'default': [{'description': 'Device for the '\n                                                           'NWB Conversion '\n                                                           'Tools '\n                                                           'tutorial.'}],\n                               'items': {'$ref': '#/properties/Ecephys/properties/definitions/Device'},\n                               'minItems': 1,\n                               'type': 'array'},\n                    'ElectrodeGroup': {'default': [{'description': 'Electrode '\n                                                                   'group '\n                                                                   'for '\n                                                                   'the '\n                                                                   'NWB '\n                                                                   'Conversion '\n                                                                   'Tools '\n                                                                   'tutorial.',\n                                                    'name': 'ElectrodeGroup'}],\n                                       'items': {'$ref': '#/properties/Ecephys/properties/definitions/ElectrodeGroup'},\n                                       'minItems': 1,\n                                       'type': 'array'},\n                    'Electrodes': {'default': [{'data': ['ElectrodeGroup',\n                                                         'ElectrodeGroup',\n                                                         'ElectrodeGroup',\n                                                         'ElectrodeGroup'],\n                                                'description': 'Custom '\n                                                               'ElectrodeGroup '\n                                                               'name for '\n                                                               'these '\n                                                               'electrodes.',\n                                                'name': 'group_name'},\n                                               {'data': [0, 1, 2, 3],\n                                                'description': 'Custom '\n                                                               'column in '\n                                                               'the '\n                                                               'electrodes '\n                                                               'table for '\n                                                               'the NWB '\n                                                               'Conversion '\n                                                               'Tools '\n                                                               'tutorial.',\n                                                'name': 'custom_electrodes_column'}],\n                                   'items': {'$ref': '#/properties/Ecephys/properties/definitions/Electrodes'},\n                                   'minItems': 0,\n                                   'renderForm': False,\n                                   'type': 'array'},\n                    'definitions': {'Device': {'additionalProperties': False,\n                                               'properties': {'description': {'description': 'Description '\n                                                                                             'of '\n                                                                                             'the '\n                                                                                             'device '\n                                                                                             '(e.g., '\n                                                                                             'model, '\n                                                                                             'firmware '\n                                                                                             'version, '\n                                                                                             'processing '\n                                                                                             'software '\n                                                                                             'version, '\n                                                                                             'etc.)',\n                                                                              'type': 'string'},\n                                                              'manufacturer': {'description': 'the '\n                                                                                              'name '\n                                                                                              'of '\n                                                                                              'the '\n                                                                                              'manufacturer '\n                                                                                              'of '\n                                                                                              'this '\n                                                                                              'device',\n                                                                               'type': 'string'},\n                                                              'name': {'description': 'the '\n                                                                                      'name '\n                                                                                      'of '\n                                                                                      'this '\n                                                                                      'device',\n                                                                       'type': 'string'}},\n                                               'required': ['name'],\n                                               'tag': 'pynwb.device.Device',\n                                               'type': 'object'},\n                                    'ElectrodeGroup': {'additionalProperties': False,\n                                                       'properties': {'description': {'description': 'description '\n                                                                                                     'of '\n                                                                                                     'this '\n                                                                                                     'electrode '\n                                                                                                     'group',\n                                                                                      'type': 'string'},\n                                                                      'device': {'description': 'the '\n                                                                                                'device '\n                                                                                                'that '\n                                                                                                'was '\n                                                                                                'used '\n                                                                                                'to '\n                                                                                                'record '\n                                                                                                'from '\n                                                                                                'this '\n                                                                                                'electrode '\n                                                                                                'group',\n                                                                                 'target': 'pynwb.device.Device',\n                                                                                 'type': 'string'},\n                                                                      'location': {'description': 'description '\n                                                                                                  'of '\n                                                                                                  'location '\n                                                                                                  'of '\n                                                                                                  'this '\n                                                                                                  'electrode '\n                                                                                                  'group',\n                                                                                   'type': 'string'},\n                                                                      'name': {'description': 'the '\n                                                                                              'name '\n                                                                                              'of '\n                                                                                              'this '\n                                                                                              'electrode',\n                                                                               'type': 'string'}},\n                                                       'required': ['device',\n                                                                    'description',\n                                                                    'location',\n                                                                    'name'],\n                                                       'tag': 'pynwb.ecephys.ElectrodeGroup',\n                                                       'type': 'object'},\n                                    'Electrodes': {'additionalProperties': False,\n                                                   'properties': {'description': {'description': 'description '\n                                                                                                 'of '\n                                                                                                 'this '\n                                                                                                 'electrodes '\n                                                                                                 'column',\n                                                                                  'type': 'string'},\n                                                                  'name': {'description': 'name '\n                                                                                          'of '\n                                                                                          'this '\n                                                                                          'electrodes '\n                                                                                          'column',\n                                                                           'type': 'string'}},\n                                                   'required': ['name'],\n                                                   'type': 'object'}}},\n     'required': ['Device', 'ElectrodeGroup'],\n     'tag': 'Ecephys',\n     'type': 'object'}\n\nOn instance['Ecephys']:\n    {'Device': [{'description': 'Device for the NWB Conversion Tools '\n                                'tutorial.'}],\n     'ElectricalSeries': {'description': 'Raw acquisition traces for the '\n                                         'NWB Conversion Tools tutorial.',\n                          'name': 'ElectricalSeries'},\n     'ElectrodeGroup': [{'description': 'Electrode group for the NWB '\n                                        'Conversion Tools tutorial.',\n                         'name': 'ElectrodeGroup'}],\n     'Electrodes': [{'data': ['ElectrodeGroup',\n                              'ElectrodeGroup',\n                              'ElectrodeGroup',\n                              'ElectrodeGroup'],\n                     'description': 'Custom ElectrodeGroup name for these '\n                                    'electrodes.',\n                     'name': 'group_name'},\n                    {'data': [0, 1, 2, 3],\n                     'description': 'Custom column in the electrodes table '\n                                    'for the NWB Conversion Tools '\n                                    'tutorial.',\n                     'name': 'custom_electrodes_column'}]}",
     "output_type": "error",
     "traceback": [
      "\u001b[1;31m---------------------------------------------------------------------------\u001b[0m",
      "\u001b[1;31mValidationError\u001b[0m                           Traceback (most recent call last)",
      "\u001b[1;32m<ipython-input-7-dad72f2b6a14>\u001b[0m in \u001b[0;36m<module>\u001b[1;34m\u001b[0m\n\u001b[0;32m     45\u001b[0m \u001b[1;33m\u001b[0m\u001b[0m\n\u001b[0;32m     46\u001b[0m \u001b[1;31m# Run conversion\u001b[0m\u001b[1;33m\u001b[0m\u001b[1;33m\u001b[0m\u001b[1;33m\u001b[0m\u001b[0m\n\u001b[1;32m---> 47\u001b[1;33m converter.run_conversion(\n\u001b[0m\u001b[0;32m     48\u001b[0m     \u001b[0mmetadata\u001b[0m\u001b[1;33m=\u001b[0m\u001b[0mmetadata\u001b[0m\u001b[1;33m,\u001b[0m\u001b[1;33m\u001b[0m\u001b[1;33m\u001b[0m\u001b[0m\n\u001b[0;32m     49\u001b[0m     \u001b[0mnwbfile_path\u001b[0m\u001b[1;33m=\u001b[0m\u001b[0moutput_file\u001b[0m\u001b[1;33m,\u001b[0m\u001b[1;33m\u001b[0m\u001b[1;33m\u001b[0m\u001b[0m\n",
      "\u001b[1;32md:\\github\\nwb-conversion-tools\\nwb_conversion_tools\\nwbconverter.py\u001b[0m in \u001b[0;36mrun_conversion\u001b[1;34m(self, metadata, save_to_file, nwbfile_path, overwrite, nwbfile, conversion_options)\u001b[0m\n\u001b[0;32m    152\u001b[0m         \u001b[1;32mif\u001b[0m \u001b[0mmetadata\u001b[0m \u001b[1;32mis\u001b[0m \u001b[1;32mNone\u001b[0m\u001b[1;33m:\u001b[0m\u001b[1;33m\u001b[0m\u001b[1;33m\u001b[0m\u001b[0m\n\u001b[0;32m    153\u001b[0m             \u001b[0mmetadata\u001b[0m \u001b[1;33m=\u001b[0m \u001b[0mself\u001b[0m\u001b[1;33m.\u001b[0m\u001b[0mget_metadata\u001b[0m\u001b[1;33m(\u001b[0m\u001b[1;33m)\u001b[0m\u001b[1;33m\u001b[0m\u001b[1;33m\u001b[0m\u001b[0m\n\u001b[1;32m--> 154\u001b[1;33m         \u001b[0mself\u001b[0m\u001b[1;33m.\u001b[0m\u001b[0mvalidate_metadata\u001b[0m\u001b[1;33m(\u001b[0m\u001b[0mmetadata\u001b[0m\u001b[1;33m=\u001b[0m\u001b[0mmetadata\u001b[0m\u001b[1;33m)\u001b[0m\u001b[1;33m\u001b[0m\u001b[1;33m\u001b[0m\u001b[0m\n\u001b[0m\u001b[0;32m    155\u001b[0m \u001b[1;33m\u001b[0m\u001b[0m\n\u001b[0;32m    156\u001b[0m         \u001b[1;31m# Validate conversion options\u001b[0m\u001b[1;33m\u001b[0m\u001b[1;33m\u001b[0m\u001b[1;33m\u001b[0m\u001b[0m\n",
      "\u001b[1;32md:\\github\\nwb-conversion-tools\\nwb_conversion_tools\\nwbconverter.py\u001b[0m in \u001b[0;36mvalidate_metadata\u001b[1;34m(self, metadata)\u001b[0m\n\u001b[0;32m    106\u001b[0m     \u001b[1;32mdef\u001b[0m \u001b[0mvalidate_metadata\u001b[0m\u001b[1;33m(\u001b[0m\u001b[0mself\u001b[0m\u001b[1;33m,\u001b[0m \u001b[0mmetadata\u001b[0m\u001b[1;33m)\u001b[0m\u001b[1;33m:\u001b[0m\u001b[1;33m\u001b[0m\u001b[1;33m\u001b[0m\u001b[0m\n\u001b[0;32m    107\u001b[0m         \u001b[1;34m\"\"\"Validate metadata against Converter metadata_schema.\"\"\"\u001b[0m\u001b[1;33m\u001b[0m\u001b[1;33m\u001b[0m\u001b[0m\n\u001b[1;32m--> 108\u001b[1;33m         \u001b[0mvalidate\u001b[0m\u001b[1;33m(\u001b[0m\u001b[0minstance\u001b[0m\u001b[1;33m=\u001b[0m\u001b[0mmetadata\u001b[0m\u001b[1;33m,\u001b[0m \u001b[0mschema\u001b[0m\u001b[1;33m=\u001b[0m\u001b[0mself\u001b[0m\u001b[1;33m.\u001b[0m\u001b[0mget_metadata_schema\u001b[0m\u001b[1;33m(\u001b[0m\u001b[1;33m)\u001b[0m\u001b[1;33m)\u001b[0m\u001b[1;33m\u001b[0m\u001b[1;33m\u001b[0m\u001b[0m\n\u001b[0m\u001b[0;32m    109\u001b[0m         \u001b[0mprint\u001b[0m\u001b[1;33m(\u001b[0m\u001b[1;34m\"Metadata is valid!\"\u001b[0m\u001b[1;33m)\u001b[0m\u001b[1;33m\u001b[0m\u001b[1;33m\u001b[0m\u001b[0m\n\u001b[0;32m    110\u001b[0m \u001b[1;33m\u001b[0m\u001b[0m\n",
      "\u001b[1;32mD:\\Users\\Raven\\anaconda3\\envs\\base2\\lib\\site-packages\\jsonschema\\validators.py\u001b[0m in \u001b[0;36mvalidate\u001b[1;34m(instance, schema, cls, *args, **kwargs)\u001b[0m\n\u001b[0;32m    932\u001b[0m     \u001b[0merror\u001b[0m \u001b[1;33m=\u001b[0m \u001b[0mexceptions\u001b[0m\u001b[1;33m.\u001b[0m\u001b[0mbest_match\u001b[0m\u001b[1;33m(\u001b[0m\u001b[0mvalidator\u001b[0m\u001b[1;33m.\u001b[0m\u001b[0miter_errors\u001b[0m\u001b[1;33m(\u001b[0m\u001b[0minstance\u001b[0m\u001b[1;33m)\u001b[0m\u001b[1;33m)\u001b[0m\u001b[1;33m\u001b[0m\u001b[1;33m\u001b[0m\u001b[0m\n\u001b[0;32m    933\u001b[0m     \u001b[1;32mif\u001b[0m \u001b[0merror\u001b[0m \u001b[1;32mis\u001b[0m \u001b[1;32mnot\u001b[0m \u001b[1;32mNone\u001b[0m\u001b[1;33m:\u001b[0m\u001b[1;33m\u001b[0m\u001b[1;33m\u001b[0m\u001b[0m\n\u001b[1;32m--> 934\u001b[1;33m         \u001b[1;32mraise\u001b[0m \u001b[0merror\u001b[0m\u001b[1;33m\u001b[0m\u001b[1;33m\u001b[0m\u001b[0m\n\u001b[0m\u001b[0;32m    935\u001b[0m \u001b[1;33m\u001b[0m\u001b[0m\n\u001b[0;32m    936\u001b[0m \u001b[1;33m\u001b[0m\u001b[0m\n",
      "\u001b[1;31mValidationError\u001b[0m: Additional properties are not allowed ('ElectricalSeries' was unexpected)\n\nFailed validating 'additionalProperties' in schema['properties']['Ecephys']:\n    {'additionalProperties': False,\n     'properties': {'Device': {'default': [{'description': 'Device for the '\n                                                           'NWB Conversion '\n                                                           'Tools '\n                                                           'tutorial.'}],\n                               'items': {'$ref': '#/properties/Ecephys/properties/definitions/Device'},\n                               'minItems': 1,\n                               'type': 'array'},\n                    'ElectrodeGroup': {'default': [{'description': 'Electrode '\n                                                                   'group '\n                                                                   'for '\n                                                                   'the '\n                                                                   'NWB '\n                                                                   'Conversion '\n                                                                   'Tools '\n                                                                   'tutorial.',\n                                                    'name': 'ElectrodeGroup'}],\n                                       'items': {'$ref': '#/properties/Ecephys/properties/definitions/ElectrodeGroup'},\n                                       'minItems': 1,\n                                       'type': 'array'},\n                    'Electrodes': {'default': [{'data': ['ElectrodeGroup',\n                                                         'ElectrodeGroup',\n                                                         'ElectrodeGroup',\n                                                         'ElectrodeGroup'],\n                                                'description': 'Custom '\n                                                               'ElectrodeGroup '\n                                                               'name for '\n                                                               'these '\n                                                               'electrodes.',\n                                                'name': 'group_name'},\n                                               {'data': [0, 1, 2, 3],\n                                                'description': 'Custom '\n                                                               'column in '\n                                                               'the '\n                                                               'electrodes '\n                                                               'table for '\n                                                               'the NWB '\n                                                               'Conversion '\n                                                               'Tools '\n                                                               'tutorial.',\n                                                'name': 'custom_electrodes_column'}],\n                                   'items': {'$ref': '#/properties/Ecephys/properties/definitions/Electrodes'},\n                                   'minItems': 0,\n                                   'renderForm': False,\n                                   'type': 'array'},\n                    'definitions': {'Device': {'additionalProperties': False,\n                                               'properties': {'description': {'description': 'Description '\n                                                                                             'of '\n                                                                                             'the '\n                                                                                             'device '\n                                                                                             '(e.g., '\n                                                                                             'model, '\n                                                                                             'firmware '\n                                                                                             'version, '\n                                                                                             'processing '\n                                                                                             'software '\n                                                                                             'version, '\n                                                                                             'etc.)',\n                                                                              'type': 'string'},\n                                                              'manufacturer': {'description': 'the '\n                                                                                              'name '\n                                                                                              'of '\n                                                                                              'the '\n                                                                                              'manufacturer '\n                                                                                              'of '\n                                                                                              'this '\n                                                                                              'device',\n                                                                               'type': 'string'},\n                                                              'name': {'description': 'the '\n                                                                                      'name '\n                                                                                      'of '\n                                                                                      'this '\n                                                                                      'device',\n                                                                       'type': 'string'}},\n                                               'required': ['name'],\n                                               'tag': 'pynwb.device.Device',\n                                               'type': 'object'},\n                                    'ElectrodeGroup': {'additionalProperties': False,\n                                                       'properties': {'description': {'description': 'description '\n                                                                                                     'of '\n                                                                                                     'this '\n                                                                                                     'electrode '\n                                                                                                     'group',\n                                                                                      'type': 'string'},\n                                                                      'device': {'description': 'the '\n                                                                                                'device '\n                                                                                                'that '\n                                                                                                'was '\n                                                                                                'used '\n                                                                                                'to '\n                                                                                                'record '\n                                                                                                'from '\n                                                                                                'this '\n                                                                                                'electrode '\n                                                                                                'group',\n                                                                                 'target': 'pynwb.device.Device',\n                                                                                 'type': 'string'},\n                                                                      'location': {'description': 'description '\n                                                                                                  'of '\n                                                                                                  'location '\n                                                                                                  'of '\n                                                                                                  'this '\n                                                                                                  'electrode '\n                                                                                                  'group',\n                                                                                   'type': 'string'},\n                                                                      'name': {'description': 'the '\n                                                                                              'name '\n                                                                                              'of '\n                                                                                              'this '\n                                                                                              'electrode',\n                                                                               'type': 'string'}},\n                                                       'required': ['device',\n                                                                    'description',\n                                                                    'location',\n                                                                    'name'],\n                                                       'tag': 'pynwb.ecephys.ElectrodeGroup',\n                                                       'type': 'object'},\n                                    'Electrodes': {'additionalProperties': False,\n                                                   'properties': {'description': {'description': 'description '\n                                                                                                 'of '\n                                                                                                 'this '\n                                                                                                 'electrodes '\n                                                                                                 'column',\n                                                                                  'type': 'string'},\n                                                                  'name': {'description': 'name '\n                                                                                          'of '\n                                                                                          'this '\n                                                                                          'electrodes '\n                                                                                          'column',\n                                                                           'type': 'string'}},\n                                                   'required': ['name'],\n                                                   'type': 'object'}}},\n     'required': ['Device', 'ElectrodeGroup'],\n     'tag': 'Ecephys',\n     'type': 'object'}\n\nOn instance['Ecephys']:\n    {'Device': [{'description': 'Device for the NWB Conversion Tools '\n                                'tutorial.'}],\n     'ElectricalSeries': {'description': 'Raw acquisition traces for the '\n                                         'NWB Conversion Tools tutorial.',\n                          'name': 'ElectricalSeries'},\n     'ElectrodeGroup': [{'description': 'Electrode group for the NWB '\n                                        'Conversion Tools tutorial.',\n                         'name': 'ElectrodeGroup'}],\n     'Electrodes': [{'data': ['ElectrodeGroup',\n                              'ElectrodeGroup',\n                              'ElectrodeGroup',\n                              'ElectrodeGroup'],\n                     'description': 'Custom ElectrodeGroup name for these '\n                                    'electrodes.',\n                     'name': 'group_name'},\n                    {'data': [0, 1, 2, 3],\n                     'description': 'Custom column in the electrodes table '\n                                    'for the NWB Conversion Tools '\n                                    'tutorial.',\n                     'name': 'custom_electrodes_column'}]}"
     ]
    }
   ],
   "source": [
    "# Custom parameters for simulated toy data\n",
    "duration = 10.  # Seconds\n",
    "num_channels = 4\n",
    "sampling_frequency = 30000.  # Hz\n",
    "\n",
    "stub_test = True  # Truncates data write for faster quality checking\n",
    "\n",
    "output_file = \"E:/NWBConversionToolsSimpleTutorial.nwb\"\n",
    "\n",
    "# Input arguments to each interface\n",
    "# For actual data formats, these arguments are typically file or folder paths to the data\n",
    "source_data = dict(\n",
    "    RecordingTutorial=dict(\n",
    "        duration=duration,\n",
    "        num_channels=num_channels,\n",
    "        sampling_frequency=sampling_frequency\n",
    "    ),\n",
    "#    SortingTutorial=dict(\n",
    "#        duration=duration,\n",
    "#        num_channels=num_channels,\n",
    "#        sampling_frequency=sampling_frequency\n",
    "#    )\n",
    ")\n",
    "\n",
    "# Initialize converter\n",
    "converter = TutorialNWBConverter(source_data=source_data)\n",
    "\n",
    "# Get metadata from source data\n",
    "# For actual data formats, this generally pulls informatin from the header files for each interface\n",
    "metadata = converter.get_metadata()\n",
    "\n",
    "# User-input metadata\n",
    "metadata[\"NWBFile\"][\"session_description\"] = \"NWB Conversion Tools tutorial.\"\n",
    "metadata[\"NWBFile\"][\"experimenter\"] = \"My name\"\n",
    "metadata[\"Subject\"] = dict(subject_id=\"Name of imaginary testing subject (required for DANDI upload)\")\n",
    "\n",
    "# Conversion options for each interface\n",
    "# For actual data formats, these can vary widely - read the docstring for the interface you want to use by entering\n",
    "#     import nwb_conversion_tools\n",
    "#     nwb_conversion_tools.NameOfDataInterface.run_conversion?\n",
    "conversion_options = dict(\n",
    "    TutorialRecording=dict(stub_test=stub_test),\n",
    "    #TutorialSorting=dict()\n",
    ")\n",
    "\n",
    "# Run conversion\n",
    "converter.run_conversion(\n",
    "    metadata=metadata, \n",
    "    nwbfile_path=output_file, \n",
    "    save_to_file=True,  # If False, this instead returns the NWBFile object in memory\n",
    "    overwrite=True,  # If False, this appends an existing file\n",
    "    conversion_options=conversion_options\n",
    ")"
   ]
  },
  {
   "cell_type": "markdown",
   "id": "meaning-encoding",
   "metadata": {},
   "source": [
    "## View NWBFile with widgets"
   ]
  },
  {
   "cell_type": "code",
   "execution_count": null,
   "id": "international-ghana",
   "metadata": {},
   "outputs": [],
   "source": [
    "io = NWBHDF5IO(output_file, \"r\", load_namespaces=True)\n",
    "nwbfile = io.read()\n",
    "nwb2widget(nwbfile)"
   ]
  },
  {
   "cell_type": "code",
   "execution_count": null,
   "id": "requested-virgin",
   "metadata": {},
   "outputs": [],
   "source": []
  }
 ],
 "metadata": {
  "kernelspec": {
   "display_name": "Python 3",
   "language": "python",
   "name": "python3"
  },
  "language_info": {
   "codemirror_mode": {
    "name": "ipython",
    "version": 3
   },
   "file_extension": ".py",
   "mimetype": "text/x-python",
   "name": "python",
   "nbconvert_exporter": "python",
   "pygments_lexer": "ipython3",
   "version": "3.9.1"
  }
 },
 "nbformat": 4,
 "nbformat_minor": 5
}
